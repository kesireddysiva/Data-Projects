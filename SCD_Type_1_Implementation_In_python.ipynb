{
 "cells": [
  {
   "cell_type": "code",
   "execution_count": 8,
   "id": "1c30a26d",
   "metadata": {},
   "outputs": [],
   "source": [
    "import pandas as pd\n",
    "import sqlalchemy as sal\n",
    "\n",
    "engine = sal.create_engine('mssql+pyodbc://siva\\\\SQLEXPRESS/namaste_sql_assignements?driver=ODBC+Driver+17+for+SQL+Server')\n",
    "conn=engine.connect()\n"
   ]
  },
  {
   "cell_type": "code",
   "execution_count": 16,
   "id": "5ac51698",
   "metadata": {},
   "outputs": [],
   "source": [
    "def extract():\n",
    "    df_product=pd.read_csv(\"C:\\\\Users\\\\skesi\\\\Downloads\\\\product.txt\",sep=',')\n",
    "    df_products_db=pd.read_sql_query('select * from products' , conn)\n",
    "    return df_product,df_products_db\n",
    "def transfrom(df_product,df_products_db):\n",
    "    df_merged=pd.merge(df_product,df_products_db, how='left',on='product_id')\n",
    "    df_insert=df_merged[df_merged['price_y'].isna()]\n",
    "    df_insert_final=df_insert.iloc[:,0:3]\n",
    "    df_insert_final.columns=df_product.columns\n",
    "    \n",
    "    df_update=df_merged[df_merged['price_y'].notna()]\n",
    "    df_update_final=df_insert.iloc[:,0:3]\n",
    "    df_update_final.columns=df_product.columns\n",
    "    return df_insert_final, df_update_final\n",
    "\n",
    "def load_staging(df_update_final):\n",
    "    df_update_final.to_sql('products_stg',con=conn , index=False , if_exists = 'replace')\n",
    "    conn.commit()\n",
    "\n",
    "def updates():\n",
    "    query = sal.text(\"update products set price = products_stg.price, product_name=products_stg.product_name from products_stg where products.product_id=products_stg.product_id\")\n",
    "    p = conn.execute(query)\n",
    "    conn.commit()\n",
    "\n",
    "def insert(df_insert_final):\n",
    "    df_insert_final.to_sql('products',conn,index=False,if_exists='append')"
   ]
  },
  {
   "cell_type": "code",
   "execution_count": 18,
   "id": "c6caaa06",
   "metadata": {},
   "outputs": [],
   "source": [
    "#extract\n",
    "df_product,df_products_db=extract()\n",
    "\n",
    "#transfrom\n",
    "df_insert_final,df_update_final=transfrom(df_product,df_products_db)\n",
    "\n",
    "#inserting new rows\n",
    "insert(df_insert_final)\n",
    "\n",
    "#loading changes to staging\n",
    "load_staging(df_update_final)\n",
    "\n",
    "#updating change in main table\n",
    "updates()"
   ]
  },
  {
   "cell_type": "code",
   "execution_count": null,
   "id": "8ac0565b",
   "metadata": {},
   "outputs": [],
   "source": []
  }
 ],
 "metadata": {
  "kernelspec": {
   "display_name": "Python 3 (ipykernel)",
   "language": "python",
   "name": "python3"
  },
  "language_info": {
   "codemirror_mode": {
    "name": "ipython",
    "version": 3
   },
   "file_extension": ".py",
   "mimetype": "text/x-python",
   "name": "python",
   "nbconvert_exporter": "python",
   "pygments_lexer": "ipython3",
   "version": "3.11.4"
  }
 },
 "nbformat": 4,
 "nbformat_minor": 5
}
