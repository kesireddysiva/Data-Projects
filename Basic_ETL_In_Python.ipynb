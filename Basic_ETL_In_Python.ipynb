{
 "cells": [
  {
   "cell_type": "code",
   "execution_count": 28,
   "id": "0f1e90cc",
   "metadata": {},
   "outputs": [],
   "source": [
    "import pandas as pd\n",
    "import sqlalchemy as sal\n",
    "\n",
    "engine = sal.create_engine('mssql+pyodbc://siva\\\\SQLEXPRESS/namaste_sql_assignements?driver=ODBC+Driver+17+for+SQL+Server')\n",
    "\n",
    "conn=engine.connect()"
   ]
  },
  {
   "cell_type": "code",
   "execution_count": 30,
   "id": "665b44bd",
   "metadata": {},
   "outputs": [],
   "source": [
    "def extract():\n",
    "    df_orders=pd.read_csv(\"C:\\\\Users\\\\skesi\\\\Downloads\\\\orders.txt\")\n",
    "    df_returns=pd.read_csv(\"C:\\\\Users\\\\skesi\\\\Downloads\\\\returns.txt\",sep=',')\n",
    "    df_returns.rename(columns={'Order Id':'order_id','Return Reason':'return_reason'},inplace=True)\n",
    "    return df_orders,df_returns\n",
    "def transfrom(df_orders,df_returns):\n",
    "    df_merged=pd.merge(df_orders,df_returns,how='inner', on='order_id')\n",
    "    return df_merged\n",
    "def load(df_merged):\n",
    "    df_merged.to_sql('order_final',con=conn, index=False, if_exists='append')\n",
    "    conn.commit()"
   ]
  },
  {
   "cell_type": "code",
   "execution_count": 31,
   "id": "bb5a5af8",
   "metadata": {},
   "outputs": [],
   "source": [
    "#extract\n",
    "df_orders,df_returns=extract()\n",
    "#transfrom\n",
    "df_merged=transfrom(df_orders,df_returns)\n",
    "#load\n",
    "load(df_merged)"
   ]
  },
  {
   "cell_type": "code",
   "execution_count": null,
   "id": "af83575c",
   "metadata": {},
   "outputs": [],
   "source": []
  },
  {
   "cell_type": "code",
   "execution_count": null,
   "id": "1f229292",
   "metadata": {},
   "outputs": [],
   "source": []
  },
  {
   "cell_type": "code",
   "execution_count": null,
   "id": "64845719",
   "metadata": {},
   "outputs": [],
   "source": []
  },
  {
   "cell_type": "code",
   "execution_count": null,
   "id": "4b801b88",
   "metadata": {},
   "outputs": [],
   "source": []
  },
  {
   "cell_type": "code",
   "execution_count": null,
   "id": "ff090a52",
   "metadata": {},
   "outputs": [],
   "source": []
  }
 ],
 "metadata": {
  "kernelspec": {
   "display_name": "Python 3 (ipykernel)",
   "language": "python",
   "name": "python3"
  },
  "language_info": {
   "codemirror_mode": {
    "name": "ipython",
    "version": 3
   },
   "file_extension": ".py",
   "mimetype": "text/x-python",
   "name": "python",
   "nbconvert_exporter": "python",
   "pygments_lexer": "ipython3",
   "version": "3.11.4"
  }
 },
 "nbformat": 4,
 "nbformat_minor": 5
}
