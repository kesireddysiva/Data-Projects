{
 "cells": [
  {
   "cell_type": "code",
   "execution_count": 8,
   "id": "933f0f85",
   "metadata": {},
   "outputs": [],
   "source": [
    "import pandas as pd\n",
    "import sqlalchemy as sal\n",
    "\n",
    "engine = sal.create_engine('mssql+pyodbc://siva\\\\SQLEXPRESS/namaste_sql_assignements?driver=ODBC+Driver+17+for+SQL+Server')\n",
    "conn=engine.connect()\n"
   ]
  },
  {
   "cell_type": "code",
   "execution_count": 41,
   "id": "c6c541ad",
   "metadata": {},
   "outputs": [],
   "source": [
    "def extract():\n",
    "    df_products=pd.read_csv(\"C:\\\\Users\\\\skesi\\\\Downloads\\\\product.txt\")\n",
    "    df_products_db=pd.read_sql_query(\"select * from products_dim where end_date = '9999-12-31'\" , conn)\n",
    "    \n",
    "    return df_products,df_products_db\n",
    "def transfrom(df_products,df_products_db):\n",
    "    df_merged=pd.merge(df_products,df_products_db, how='inner', on='product_id')\n",
    "    updated_rows=df_merged['product_key']\n",
    "    keys = updated_rows.to_list()\n",
    "    product_keys= ','.join([str(key) for key in keys])\n",
    "    return product_keys\n",
    "   \n",
    "def insert(df_products):\n",
    "    df_products['start_date'] = pd.to_datetime('now').strftime('%Y-%m-%d')\n",
    "    df_products['end_date'] = '9999-12-31'\n",
    "    df_products.to_sql('products_dim',conn,index=False,if_exists='append')\n",
    "    conn.commit()\n",
    "\n",
    "    \n",
    "def updates(keys):\n",
    "    if keys!=' ':\n",
    "        query = sal.text(\"update products_dim set end_date =  cast(getdate()-1 as date) where product_key in (\" + product_keys + \") \")\n",
    "        p = conn.execute(query)\n",
    "        conn.commit()\n",
    "   "
   ]
  },
  {
   "cell_type": "code",
   "execution_count": 42,
   "id": "81d2c0e0",
   "metadata": {},
   "outputs": [],
   "source": [
    "df_products,df_products_db=extract()\n",
    "product_keys=transfrom(df_products,df_products_db)\n",
    "insert(df_products)\n",
    "updates(product_keys)"
   ]
  },
  {
   "cell_type": "code",
   "execution_count": 38,
   "id": "8ac4eb78",
   "metadata": {},
   "outputs": [
    {
     "data": {
      "text/plain": [
       "[1]"
      ]
     },
     "execution_count": 38,
     "metadata": {},
     "output_type": "execute_result"
    }
   ],
   "source": [
    "updated_rows=df_merged['product_key']\n",
    "updated_rows.to_list()"
   ]
  },
  {
   "cell_type": "code",
   "execution_count": 19,
   "id": "04963999",
   "metadata": {},
   "outputs": [
    {
     "data": {
      "text/plain": [
       "[1]"
      ]
     },
     "execution_count": 19,
     "metadata": {},
     "output_type": "execute_result"
    }
   ],
   "source": [
    "keys = updated_rows.to_list()"
   ]
  },
  {
   "cell_type": "code",
   "execution_count": 20,
   "id": "19f22088",
   "metadata": {},
   "outputs": [
    {
     "data": {
      "text/html": [
       "<div>\n",
       "<style scoped>\n",
       "    .dataframe tbody tr th:only-of-type {\n",
       "        vertical-align: middle;\n",
       "    }\n",
       "\n",
       "    .dataframe tbody tr th {\n",
       "        vertical-align: top;\n",
       "    }\n",
       "\n",
       "    .dataframe thead th {\n",
       "        text-align: right;\n",
       "    }\n",
       "</style>\n",
       "<table border=\"1\" class=\"dataframe\">\n",
       "  <thead>\n",
       "    <tr style=\"text-align: right;\">\n",
       "      <th></th>\n",
       "      <th>product_id</th>\n",
       "      <th>product_name</th>\n",
       "      <th>price</th>\n",
       "    </tr>\n",
       "  </thead>\n",
       "  <tbody>\n",
       "    <tr>\n",
       "      <th>0</th>\n",
       "      <td>1</td>\n",
       "      <td>IPhone 11</td>\n",
       "      <td>35000</td>\n",
       "    </tr>\n",
       "    <tr>\n",
       "      <th>1</th>\n",
       "      <td>5</td>\n",
       "      <td>Laptop</td>\n",
       "      <td>65000</td>\n",
       "    </tr>\n",
       "  </tbody>\n",
       "</table>\n",
       "</div>"
      ],
      "text/plain": [
       "   product_id product_name  price\n",
       "0           1    IPhone 11  35000\n",
       "1           5       Laptop  65000"
      ]
     },
     "execution_count": 20,
     "metadata": {},
     "output_type": "execute_result"
    }
   ],
   "source": [
    "df_products"
   ]
  },
  {
   "cell_type": "code",
   "execution_count": 21,
   "id": "13c8e22d",
   "metadata": {},
   "outputs": [
    {
     "data": {
      "text/html": [
       "<div>\n",
       "<style scoped>\n",
       "    .dataframe tbody tr th:only-of-type {\n",
       "        vertical-align: middle;\n",
       "    }\n",
       "\n",
       "    .dataframe tbody tr th {\n",
       "        vertical-align: top;\n",
       "    }\n",
       "\n",
       "    .dataframe thead th {\n",
       "        text-align: right;\n",
       "    }\n",
       "</style>\n",
       "<table border=\"1\" class=\"dataframe\">\n",
       "  <thead>\n",
       "    <tr style=\"text-align: right;\">\n",
       "      <th></th>\n",
       "      <th>product_key</th>\n",
       "      <th>product_id</th>\n",
       "      <th>product_name</th>\n",
       "      <th>price</th>\n",
       "      <th>start_date</th>\n",
       "      <th>end_date</th>\n",
       "    </tr>\n",
       "  </thead>\n",
       "  <tbody>\n",
       "    <tr>\n",
       "      <th>0</th>\n",
       "      <td>1</td>\n",
       "      <td>1</td>\n",
       "      <td>IPhone 11</td>\n",
       "      <td>30000</td>\n",
       "      <td>2024-11-28</td>\n",
       "      <td>9999-12-31</td>\n",
       "    </tr>\n",
       "    <tr>\n",
       "      <th>1</th>\n",
       "      <td>2</td>\n",
       "      <td>4</td>\n",
       "      <td>ipad</td>\n",
       "      <td>30000</td>\n",
       "      <td>2024-11-28</td>\n",
       "      <td>9999-12-31</td>\n",
       "    </tr>\n",
       "  </tbody>\n",
       "</table>\n",
       "</div>"
      ],
      "text/plain": [
       "   product_key  product_id product_name  price  start_date    end_date\n",
       "0            1           1    IPhone 11  30000  2024-11-28  9999-12-31\n",
       "1            2           4         ipad  30000  2024-11-28  9999-12-31"
      ]
     },
     "execution_count": 21,
     "metadata": {},
     "output_type": "execute_result"
    }
   ],
   "source": [
    "df_products_db"
   ]
  },
  {
   "cell_type": "code",
   "execution_count": null,
   "id": "50a9fea6",
   "metadata": {},
   "outputs": [],
   "source": [
    "update product_dim \n",
    "set product_dim.end_date=CURDATE()-1 \n",
    "where products_dim.product_key in keys"
   ]
  }
 ],
 "metadata": {
  "kernelspec": {
   "display_name": "Python 3 (ipykernel)",
   "language": "python",
   "name": "python3"
  },
  "language_info": {
   "codemirror_mode": {
    "name": "ipython",
    "version": 3
   },
   "file_extension": ".py",
   "mimetype": "text/x-python",
   "name": "python",
   "nbconvert_exporter": "python",
   "pygments_lexer": "ipython3",
   "version": "3.11.4"
  }
 },
 "nbformat": 4,
 "nbformat_minor": 5
}
